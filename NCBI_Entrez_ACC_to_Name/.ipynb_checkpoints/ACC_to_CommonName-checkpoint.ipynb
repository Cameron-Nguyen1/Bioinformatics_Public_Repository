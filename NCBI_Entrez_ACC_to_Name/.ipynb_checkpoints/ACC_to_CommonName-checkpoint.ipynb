{
 "cells": [
  {
   "cell_type": "markdown",
   "id": "beb22c44",
   "metadata": {},
   "source": [
    "# Convert NCBI Accessions to Scientific Names\n",
    "#### Input is taken as hit tables from NCBI's Blast.\n",
    "#### The first five records are used by default.\n",
    "#### The output is reformatted to include sequence ID, Scientific Name of the match, E.val of match, and Percent Identity to match."
   ]
  },
  {
   "cell_type": "code",
   "execution_count": 17,
   "id": "4ee6bd13",
   "metadata": {},
   "outputs": [],
   "source": [
    "#Import data and select the basics from the blast hit tables.\n",
    "import os\n",
    "import pandas as pd\n",
    "from Bio import Entrez\n",
    "m35c4 = pd.read_csv('MERS35c4_Hittable.csv',header=None)\n",
    "mnluc = pd.read_csv('MERSnLuc_Hittable.csv',header=None)\n",
    "mnluc = mnluc[[0,1,2,10]]\n",
    "m35c4 = m35c4[[0,1,2,10]]"
   ]
  },
  {
   "cell_type": "code",
   "execution_count": 18,
   "id": "00fdb7d6",
   "metadata": {},
   "outputs": [],
   "source": [
    "#Take the first five records, set Entrez email alert, establish new lists to retain scientific names.\n",
    "m35c4 = m35c4.groupby(0).head(5)\n",
    "mnluc = mnluc.groupby(0).head(5)\n",
    "Entrez.email = \"myemail@domain.com\"\n",
    "myl_m35c4,myl_mnluc = [],[]"
   ]
  },
  {
   "cell_type": "code",
   "execution_count": 19,
   "id": "6ac825a2",
   "metadata": {},
   "outputs": [],
   "source": [
    "#Use Entrez.efetch to query the NT database for our accessions from the hittable.\n",
    "#Parse the return from efetch, return scientific name as out.\n",
    "for acc in m35c4[1]: \n",
    "    ret = Entrez.efetch(db = \"nucleotide\", id = acc, retmode=\"text\")\n",
    "    for ele in ret:\n",
    "        if \"taxname\" in ele:\n",
    "            start,end = ele.index(\"\\\"\"),ele.rindex(\",\")\n",
    "            out = (ele[start+1:end-1])\n",
    "            myl_m35c4.append(out)\n",
    "            break\n",
    "            \n",
    "for acc in mnluc[1]: \n",
    "    ret = Entrez.efetch(db = \"nucleotide\", id = acc, retmode=\"text\")\n",
    "    for ele in ret:\n",
    "        if \"taxname\" in ele:\n",
    "            start,end = ele.index(\"\\\"\"),ele.rindex(\",\")\n",
    "            out = (ele[start+1:end-1])\n",
    "            myl_mnluc.append(out)\n",
    "            break\n",
    "        "
   ]
  },
  {
   "cell_type": "code",
   "execution_count": 23,
   "id": "3ddcc2d4",
   "metadata": {
    "scrolled": true
   },
   "outputs": [],
   "source": [
    "#Rewrite NCBI accesions to Common Name\n",
    "m35c4[1]=myl_m35c4\n",
    "mnluc[1]=myl_mnluc\n",
    "m35c4=m35c4.set_axis([\"Seq\",\"Blast_Name\",\"Pct.Identity\",\"E.val\"],axis=1)\n",
    "mnluc=mnluc.set_axis([\"Seq\",\"Blast_Name\",\"Pct.Identity\",\"E.val\"],axis=1)\n",
    "m35c4.to_csv(\"m35c4_blastreformat.csv\")\n",
    "mnluc.to_csv(\"mnluc_blastreformat.csv\")"
   ]
  },
  {
   "cell_type": "code",
   "execution_count": null,
   "id": "4cfe8c8c",
   "metadata": {},
   "outputs": [],
   "source": []
  }
 ],
 "metadata": {
  "kernelspec": {
   "display_name": "Python 3 (ipykernel)",
   "language": "python",
   "name": "python3"
  },
  "language_info": {
   "codemirror_mode": {
    "name": "ipython",
    "version": 3
   },
   "file_extension": ".py",
   "mimetype": "text/x-python",
   "name": "python",
   "nbconvert_exporter": "python",
   "pygments_lexer": "ipython3",
   "version": "3.10.10"
  }
 },
 "nbformat": 4,
 "nbformat_minor": 5
}
