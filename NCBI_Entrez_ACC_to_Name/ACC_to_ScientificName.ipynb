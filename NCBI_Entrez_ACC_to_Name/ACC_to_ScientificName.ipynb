{
 "cells": [
  {
   "cell_type": "markdown",
   "id": "beb22c44",
   "metadata": {},
   "source": [
    "# Convert NCBI Accessions to Scientific Names\n",
    "#### Input is taken as hit tables from NCBI's Blast.\n",
    "#### The first five records are used by default.\n",
    "#### The output is reformatted to include sequence ID, Scientific Name of the match, E.val of match, and Percent Identity to match."
   ]
  },
  {
   "cell_type": "code",
   "execution_count": 17,
   "id": "4ee6bd13",
   "metadata": {},
   "outputs": [],
   "source": [
    "#Import data and select the basics from the blast hit tables.\n",
    "import pandas as pd\n",
    "from Bio import Entrez\n",
    "seqs1 = pd.read_csv('Sequences1_Hittable.csv',header=None)\n",
    "seqs2 = pd.read_csv('Sequences2_Hittable.csv',header=None)\n",
    "seqs2 = seqs2[[0,1,2,10]]\n",
    "seqs1 = seqs1[[0,1,2,10]]"
   ]
  },
  {
   "cell_type": "code",
   "execution_count": 18,
   "id": "00fdb7d6",
   "metadata": {},
   "outputs": [],
   "source": [
    "#Take the first five records, set Entrez email alert, establish new lists to retain scientific names.\n",
    "seqs1 = seqs1.groupby(0).head(5)\n",
    "seqs2 = seqs2.groupby(0).head(5)\n",
    "Entrez.email = \"myemail@domain.com\"\n",
    "myl_seqs1,myl_seqs2 = [],[]"
   ]
  },
  {
   "cell_type": "code",
   "execution_count": 19,
   "id": "6ac825a2",
   "metadata": {},
   "outputs": [],
   "source": [
    "#Use Entrez.efetch to query the NT database for our accessions from the hittable.\n",
    "#Parse the return from efetch, return scientific name as out.\n",
    "for acc in seqs1[1]: \n",
    "    ret = Entrez.efetch(db = \"nucleotide\", id = acc, retmode=\"text\")\n",
    "    for ele in ret:\n",
    "        if \"taxname\" in ele:\n",
    "            start,end = ele.index(\"\\\"\"),ele.rindex(\",\")\n",
    "            out = (ele[start+1:end-1])\n",
    "            myl_seqs1.append(out)\n",
    "            break\n",
    "            \n",
    "for acc in seqs2[1]: \n",
    "    ret = Entrez.efetch(db = \"nucleotide\", id = acc, retmode=\"text\")\n",
    "    for ele in ret:\n",
    "        if \"taxname\" in ele:\n",
    "            start,end = ele.index(\"\\\"\"),ele.rindex(\",\")\n",
    "            out = (ele[start+1:end-1])\n",
    "            myl_seqs2.append(out)\n",
    "            break\n",
    "        "
   ]
  },
  {
   "cell_type": "code",
   "execution_count": 23,
   "id": "3ddcc2d4",
   "metadata": {
    "scrolled": true
   },
   "outputs": [],
   "source": [
    "#Rewrite NCBI accesions to Human readable name, columns names from numbers\n",
    "seqs1[1]=myl_seqs1\n",
    "seqs2[1]=myl_seqs2\n",
    "seqs1=seqs1.set_axis([\"Seq\",\"Blast_Name\",\"Pct.Identity\",\"E.val\"],axis=1)\n",
    "seqs2=seqs2.set_axis([\"Seq\",\"Blast_Name\",\"Pct.Identity\",\"E.val\"],axis=1)\n",
    "seqs1.to_csv(\"seqs1_blastreformat.csv\")\n",
    "seqs2.to_csv(\"seqs2_blastreformat.csv\")"
   ]
  },
  {
   "cell_type": "code",
   "execution_count": null,
   "id": "4cfe8c8c",
   "metadata": {},
   "outputs": [],
   "source": []
  }
 ],
 "metadata": {
  "kernelspec": {
   "display_name": "Python 3 (ipykernel)",
   "language": "python",
   "name": "python3"
  },
  "language_info": {
   "codemirror_mode": {
    "name": "ipython",
    "version": 3
   },
   "file_extension": ".py",
   "mimetype": "text/x-python",
   "name": "python",
   "nbconvert_exporter": "python",
   "pygments_lexer": "ipython3",
   "version": "3.10.10"
  }
 },
 "nbformat": 4,
 "nbformat_minor": 5
}
